{
 "cells": [
  {
   "cell_type": "code",
   "execution_count": 16,
   "metadata": {},
   "outputs": [
    {
     "name": "stdout",
     "output_type": "stream",
     "text": [
      "<class 'uuid.UUID'>\n",
      "<class '__main__.LP_GUID'>\n"
     ]
    },
    {
     "ename": "ArgumentError",
     "evalue": "argument 1: <class 'TypeError'>: expected LP_GUID instance instead of LP_GUID",
     "output_type": "error",
     "traceback": [
      "\u001b[1;31m---------------------------------------------------------------------------\u001b[0m",
      "\u001b[1;31mArgumentError\u001b[0m                             Traceback (most recent call last)",
      "\u001b[1;32mc:\\Users\\cjwn\\Qsync\\Reco_ver\\Untitled-1.ipynb Cell 1\u001b[0m in \u001b[0;36m<cell line: 32>\u001b[1;34m()\u001b[0m\n\u001b[0;32m     <a href='vscode-notebook-cell:/c%3A/Users/cjwn/Qsync/Reco_ver/Untitled-1.ipynb#W0sZmlsZQ%3D%3D?line=27'>28</a>\u001b[0m     \u001b[39mprint\u001b[39m(\u001b[39mf\u001b[39m\u001b[39m'\u001b[39m\u001b[39mgetKnownFolder: \u001b[39m\u001b[39m{\u001b[39;00mSHGetKnownFolderPath(a)\u001b[39m}\u001b[39;00m\u001b[39m'\u001b[39m)\n\u001b[0;32m     <a href='vscode-notebook-cell:/c%3A/Users/cjwn/Qsync/Reco_ver/Untitled-1.ipynb#W0sZmlsZQ%3D%3D?line=28'>29</a>\u001b[0m     \u001b[39m# for i in range(60):\u001b[39;00m\n\u001b[0;32m     <a href='vscode-notebook-cell:/c%3A/Users/cjwn/Qsync/Reco_ver/Untitled-1.ipynb#W0sZmlsZQ%3D%3D?line=29'>30</a>\u001b[0m     \u001b[39m#     print(f'getKnownFolder: {SHGetKnownFolderPath(i)}')\u001b[39;00m\n\u001b[1;32m---> <a href='vscode-notebook-cell:/c%3A/Users/cjwn/Qsync/Reco_ver/Untitled-1.ipynb#W0sZmlsZQ%3D%3D?line=31'>32</a>\u001b[0m showpath()\n\u001b[0;32m     <a href='vscode-notebook-cell:/c%3A/Users/cjwn/Qsync/Reco_ver/Untitled-1.ipynb#W0sZmlsZQ%3D%3D?line=33'>34</a>\u001b[0m \u001b[39mdef\u001b[39;00m \u001b[39mget_download_path\u001b[39m():\n\u001b[0;32m     <a href='vscode-notebook-cell:/c%3A/Users/cjwn/Qsync/Reco_ver/Untitled-1.ipynb#W0sZmlsZQ%3D%3D?line=34'>35</a>\u001b[0m     key \u001b[39m=\u001b[39m winreg\u001b[39m.\u001b[39mOpenKey(winreg\u001b[39m.\u001b[39mHKEY_CURRENT_USER, \u001b[39mr\u001b[39m\u001b[39m'\u001b[39m\u001b[39mSoftware\u001b[39m\u001b[39m\\\u001b[39m\u001b[39mMicrosoft\u001b[39m\u001b[39m\\\u001b[39m\u001b[39mWindows\u001b[39m\u001b[39m\\\u001b[39m\u001b[39mCurrentVersion\u001b[39m\u001b[39m\\\u001b[39m\u001b[39mExplorer\u001b[39m\u001b[39m\\\u001b[39m\u001b[39mShell Folders\u001b[39m\u001b[39m'\u001b[39m)\n",
      "\u001b[1;32mc:\\Users\\cjwn\\Qsync\\Reco_ver\\Untitled-1.ipynb Cell 1\u001b[0m in \u001b[0;36mshowpath\u001b[1;34m()\u001b[0m\n\u001b[0;32m     <a href='vscode-notebook-cell:/c%3A/Users/cjwn/Qsync/Reco_ver/Untitled-1.ipynb#W0sZmlsZQ%3D%3D?line=26'>27</a>\u001b[0m \u001b[39mdef\u001b[39;00m \u001b[39mshowpath\u001b[39m():\n\u001b[1;32m---> <a href='vscode-notebook-cell:/c%3A/Users/cjwn/Qsync/Reco_ver/Untitled-1.ipynb#W0sZmlsZQ%3D%3D?line=27'>28</a>\u001b[0m     \u001b[39mprint\u001b[39m(\u001b[39mf\u001b[39m\u001b[39m'\u001b[39m\u001b[39mgetKnownFolder: \u001b[39m\u001b[39m{\u001b[39;00mSHGetKnownFolderPath(a)\u001b[39m}\u001b[39;00m\u001b[39m'\u001b[39m)\n",
      "\u001b[1;32mc:\\Users\\cjwn\\Qsync\\Reco_ver\\Untitled-1.ipynb Cell 1\u001b[0m in \u001b[0;36mSHGetKnownFolderPath\u001b[1;34m(fid)\u001b[0m\n\u001b[0;32m     <a href='vscode-notebook-cell:/c%3A/Users/cjwn/Qsync/Reco_ver/Untitled-1.ipynb#W0sZmlsZQ%3D%3D?line=20'>21</a>\u001b[0m \u001b[39mdef\u001b[39;00m \u001b[39mSHGetKnownFolderPath\u001b[39m(fid):\n\u001b[0;32m     <a href='vscode-notebook-cell:/c%3A/Users/cjwn/Qsync/Reco_ver/Untitled-1.ipynb#W0sZmlsZQ%3D%3D?line=21'>22</a>\u001b[0m     buf \u001b[39m=\u001b[39m ctypes\u001b[39m.\u001b[39mcreate_unicode_buffer(ctypes\u001b[39m.\u001b[39mwintypes\u001b[39m.\u001b[39mMAX_PATH)\n\u001b[1;32m---> <a href='vscode-notebook-cell:/c%3A/Users/cjwn/Qsync/Reco_ver/Untitled-1.ipynb#W0sZmlsZQ%3D%3D?line=22'>23</a>\u001b[0m     ctypes\u001b[39m.\u001b[39;49mwindll\u001b[39m.\u001b[39;49mshell32\u001b[39m.\u001b[39;49mSHGetKnownFolderPath(fid, \u001b[39m0\u001b[39;49m, \u001b[39mNone\u001b[39;49;00m, buf)\n\u001b[0;32m     <a href='vscode-notebook-cell:/c%3A/Users/cjwn/Qsync/Reco_ver/Untitled-1.ipynb#W0sZmlsZQ%3D%3D?line=23'>24</a>\u001b[0m     \u001b[39mreturn\u001b[39;00m buf\u001b[39m.\u001b[39mvalue\n",
      "\u001b[1;31mArgumentError\u001b[0m: argument 1: <class 'TypeError'>: expected LP_GUID instance instead of LP_GUID"
     ]
    }
   ],
   "source": [
    "import ctypes.wintypes\n",
    "import ctypes as C\n",
    "import winreg\n",
    "from uuid import UUID\n",
    "CSIDL_PERSONAL = UUID('{374DE290-123F-4565-9164-39C4925E467B}')\n",
    "print(type(CSIDL_PERSONAL))\n",
    "\n",
    "class LP_GUID(object):\n",
    "    def __init__(self) -> None:\n",
    "        value = '{374DE290-123F-4565-9164-39C4925E467B}'\n",
    "\n",
    "a = LP_GUID()\n",
    "\n",
    "print(type(a))\n",
    "\n",
    "def SHGetFolderPathW():\n",
    "    buf = ctypes.create_unicode_buffer(ctypes.wintypes.MAX_PATH)\n",
    "    fid = ctypes.create_unicode_buffer(ctypes.wintypes.MAX_PATH)\n",
    "    ctypes.windll.shell32.SHGetFolderPathW(None, None, None, '{374DE290-123F-4565-9164-39C4925E467B}', buf)\n",
    "    return buf.value\n",
    "\n",
    "def SHGetKnownFolderPath(fid):\n",
    "    buf = ctypes.create_unicode_buffer(ctypes.wintypes.MAX_PATH)\n",
    "    ctypes.windll.shell32.SHGetKnownFolderPath(fid, 0, None, buf)\n",
    "    return buf.value\n",
    "\n",
    "\n",
    "def showpath():\n",
    "    print(f'getKnownFolder: {SHGetKnownFolderPath(a)}')\n",
    "    # for i in range(60):\n",
    "    #     print(f'getKnownFolder: {SHGetKnownFolderPath(i)}')\n",
    "    \n",
    "showpath()\n",
    "\n",
    "def get_download_path():\n",
    "    key = winreg.OpenKey(winreg.HKEY_CURRENT_USER, r'Software\\Microsoft\\Windows\\CurrentVersion\\Explorer\\Shell Folders')\n",
    "    print(key)\n",
    "    return winreg.QueryValueEx(key, \"{374DE290-123F-4565-9164-39C4925E467B}\")[0]\n",
    "\n",
    "get_download_path()"
   ]
  },
  {
   "cell_type": "code",
   "execution_count": 6,
   "metadata": {},
   "outputs": [
    {
     "name": "stderr",
     "output_type": "stream",
     "text": [
      "Unknown folder id \"--ip=127.0.0.1\"\n"
     ]
    },
    {
     "ename": "AssertionError",
     "evalue": "",
     "output_type": "error",
     "traceback": [
      "\u001b[1;31m---------------------------------------------------------------------------\u001b[0m",
      "\u001b[1;31mAttributeError\u001b[0m                            Traceback (most recent call last)",
      "\u001b[1;32mc:\\Users\\cjwn\\Qsync\\Reco_ver\\Untitled-1.ipynb Cell 2\u001b[0m in \u001b[0;36m<cell line: 47>\u001b[1;34m()\u001b[0m\n\u001b[0;32m     <a href='vscode-notebook-cell:/c%3A/Users/cjwn/Qsync/Reco_ver/Untitled-1.ipynb#W1sZmlsZQ%3D%3D?line=51'>52</a>\u001b[0m \u001b[39mtry\u001b[39;00m:\n\u001b[1;32m---> <a href='vscode-notebook-cell:/c%3A/Users/cjwn/Qsync/Reco_ver/Untitled-1.ipynb#W1sZmlsZQ%3D%3D?line=52'>53</a>\u001b[0m     folderid \u001b[39m=\u001b[39m \u001b[39mgetattr\u001b[39;49m(FOLDERID, sys\u001b[39m.\u001b[39;49margv[\u001b[39m1\u001b[39;49m])\n\u001b[0;32m     <a href='vscode-notebook-cell:/c%3A/Users/cjwn/Qsync/Reco_ver/Untitled-1.ipynb#W1sZmlsZQ%3D%3D?line=53'>54</a>\u001b[0m \u001b[39mexcept\u001b[39;00m \u001b[39mAttributeError\u001b[39;00m:\n",
      "\u001b[1;31mAttributeError\u001b[0m: type object 'FOLDERID' has no attribute '--ip=127.0.0.1'",
      "\nDuring handling of the above exception, another exception occurred:\n",
      "\u001b[1;31mSystemExit\u001b[0m                                Traceback (most recent call last)",
      "    \u001b[1;31m[... skipping hidden 1 frame]\u001b[0m\n",
      "\u001b[1;32mc:\\Users\\cjwn\\Qsync\\Reco_ver\\Untitled-1.ipynb Cell 2\u001b[0m in \u001b[0;36m<cell line: 47>\u001b[1;34m()\u001b[0m\n\u001b[0;32m     <a href='vscode-notebook-cell:/c%3A/Users/cjwn/Qsync/Reco_ver/Untitled-1.ipynb#W1sZmlsZQ%3D%3D?line=54'>55</a>\u001b[0m     \u001b[39mprint\u001b[39m(\u001b[39m'\u001b[39m\u001b[39mUnknown folder id \u001b[39m\u001b[39m\"\u001b[39m\u001b[39m%s\u001b[39;00m\u001b[39m\"\u001b[39m\u001b[39m'\u001b[39m \u001b[39m%\u001b[39m sys\u001b[39m.\u001b[39margv[\u001b[39m1\u001b[39m], file\u001b[39m=\u001b[39msys\u001b[39m.\u001b[39mstderr)\n\u001b[1;32m---> <a href='vscode-notebook-cell:/c%3A/Users/cjwn/Qsync/Reco_ver/Untitled-1.ipynb#W1sZmlsZQ%3D%3D?line=55'>56</a>\u001b[0m     sys\u001b[39m.\u001b[39;49mexit(\u001b[39m1\u001b[39;49m)\n\u001b[0;32m     <a href='vscode-notebook-cell:/c%3A/Users/cjwn/Qsync/Reco_ver/Untitled-1.ipynb#W1sZmlsZQ%3D%3D?line=57'>58</a>\u001b[0m \u001b[39mtry\u001b[39;00m:\n",
      "\u001b[1;31mSystemExit\u001b[0m: 1",
      "\nDuring handling of the above exception, another exception occurred:\n",
      "\u001b[1;31mAssertionError\u001b[0m                            Traceback (most recent call last)",
      "    \u001b[1;31m[... skipping hidden 1 frame]\u001b[0m\n",
      "File \u001b[1;32mc:\\Users\\cjwn\\Envs\\Reco_ver\\lib\\site-packages\\IPython\\core\\interactiveshell.py:1983\u001b[0m, in \u001b[0;36mInteractiveShell.showtraceback\u001b[1;34m(self, exc_tuple, filename, tb_offset, exception_only, running_compiled_code)\u001b[0m\n\u001b[0;32m   1980\u001b[0m \u001b[39mif\u001b[39;00m exception_only:\n\u001b[0;32m   1981\u001b[0m     stb \u001b[39m=\u001b[39m [\u001b[39m'\u001b[39m\u001b[39mAn exception has occurred, use \u001b[39m\u001b[39m%\u001b[39m\u001b[39mtb to see \u001b[39m\u001b[39m'\u001b[39m\n\u001b[0;32m   1982\u001b[0m            \u001b[39m'\u001b[39m\u001b[39mthe full traceback.\u001b[39m\u001b[39m\\n\u001b[39;00m\u001b[39m'\u001b[39m]\n\u001b[1;32m-> 1983\u001b[0m     stb\u001b[39m.\u001b[39mextend(\u001b[39mself\u001b[39;49m\u001b[39m.\u001b[39;49mInteractiveTB\u001b[39m.\u001b[39;49mget_exception_only(etype,\n\u001b[0;32m   1984\u001b[0m                                                      value))\n\u001b[0;32m   1985\u001b[0m \u001b[39melse\u001b[39;00m:\n\u001b[0;32m   1986\u001b[0m     \u001b[39mtry\u001b[39;00m:\n\u001b[0;32m   1987\u001b[0m         \u001b[39m# Exception classes can customise their traceback - we\u001b[39;00m\n\u001b[0;32m   1988\u001b[0m         \u001b[39m# use this in IPython.parallel for exceptions occurring\u001b[39;00m\n\u001b[0;32m   1989\u001b[0m         \u001b[39m# in the engines. This should return a list of strings.\u001b[39;00m\n",
      "File \u001b[1;32mc:\\Users\\cjwn\\Envs\\Reco_ver\\lib\\site-packages\\IPython\\core\\ultratb.py:585\u001b[0m, in \u001b[0;36mListTB.get_exception_only\u001b[1;34m(self, etype, value)\u001b[0m\n\u001b[0;32m    577\u001b[0m \u001b[39mdef\u001b[39;00m \u001b[39mget_exception_only\u001b[39m(\u001b[39mself\u001b[39m, etype, value):\n\u001b[0;32m    578\u001b[0m     \u001b[39m\"\"\"Only print the exception type and message, without a traceback.\u001b[39;00m\n\u001b[0;32m    579\u001b[0m \n\u001b[0;32m    580\u001b[0m \u001b[39m    Parameters\u001b[39;00m\n\u001b[1;32m   (...)\u001b[0m\n\u001b[0;32m    583\u001b[0m \u001b[39m    value : exception value\u001b[39;00m\n\u001b[0;32m    584\u001b[0m \u001b[39m    \"\"\"\u001b[39;00m\n\u001b[1;32m--> 585\u001b[0m     \u001b[39mreturn\u001b[39;00m ListTB\u001b[39m.\u001b[39;49mstructured_traceback(\u001b[39mself\u001b[39;49m, etype, value)\n",
      "File \u001b[1;32mc:\\Users\\cjwn\\Envs\\Reco_ver\\lib\\site-packages\\IPython\\core\\ultratb.py:443\u001b[0m, in \u001b[0;36mListTB.structured_traceback\u001b[1;34m(self, etype, evalue, etb, tb_offset, context)\u001b[0m\n\u001b[0;32m    440\u001b[0m     chained_exc_ids\u001b[39m.\u001b[39madd(\u001b[39mid\u001b[39m(exception[\u001b[39m1\u001b[39m]))\n\u001b[0;32m    441\u001b[0m     chained_exceptions_tb_offset \u001b[39m=\u001b[39m \u001b[39m0\u001b[39m\n\u001b[0;32m    442\u001b[0m     out_list \u001b[39m=\u001b[39m (\n\u001b[1;32m--> 443\u001b[0m         \u001b[39mself\u001b[39;49m\u001b[39m.\u001b[39;49mstructured_traceback(\n\u001b[0;32m    444\u001b[0m             etype, evalue, (etb, chained_exc_ids),\n\u001b[0;32m    445\u001b[0m             chained_exceptions_tb_offset, context)\n\u001b[0;32m    446\u001b[0m         \u001b[39m+\u001b[39m chained_exception_message\n\u001b[0;32m    447\u001b[0m         \u001b[39m+\u001b[39m out_list)\n\u001b[0;32m    449\u001b[0m \u001b[39mreturn\u001b[39;00m out_list\n",
      "File \u001b[1;32mc:\\Users\\cjwn\\Envs\\Reco_ver\\lib\\site-packages\\IPython\\core\\ultratb.py:1118\u001b[0m, in \u001b[0;36mAutoFormattedTB.structured_traceback\u001b[1;34m(self, etype, value, tb, tb_offset, number_of_lines_of_context)\u001b[0m\n\u001b[0;32m   1116\u001b[0m \u001b[39melse\u001b[39;00m:\n\u001b[0;32m   1117\u001b[0m     \u001b[39mself\u001b[39m\u001b[39m.\u001b[39mtb \u001b[39m=\u001b[39m tb\n\u001b[1;32m-> 1118\u001b[0m \u001b[39mreturn\u001b[39;00m FormattedTB\u001b[39m.\u001b[39;49mstructured_traceback(\n\u001b[0;32m   1119\u001b[0m     \u001b[39mself\u001b[39;49m, etype, value, tb, tb_offset, number_of_lines_of_context)\n",
      "File \u001b[1;32mc:\\Users\\cjwn\\Envs\\Reco_ver\\lib\\site-packages\\IPython\\core\\ultratb.py:1012\u001b[0m, in \u001b[0;36mFormattedTB.structured_traceback\u001b[1;34m(self, etype, value, tb, tb_offset, number_of_lines_of_context)\u001b[0m\n\u001b[0;32m   1009\u001b[0m mode \u001b[39m=\u001b[39m \u001b[39mself\u001b[39m\u001b[39m.\u001b[39mmode\n\u001b[0;32m   1010\u001b[0m \u001b[39mif\u001b[39;00m mode \u001b[39min\u001b[39;00m \u001b[39mself\u001b[39m\u001b[39m.\u001b[39mverbose_modes:\n\u001b[0;32m   1011\u001b[0m     \u001b[39m# Verbose modes need a full traceback\u001b[39;00m\n\u001b[1;32m-> 1012\u001b[0m     \u001b[39mreturn\u001b[39;00m VerboseTB\u001b[39m.\u001b[39;49mstructured_traceback(\n\u001b[0;32m   1013\u001b[0m         \u001b[39mself\u001b[39;49m, etype, value, tb, tb_offset, number_of_lines_of_context\n\u001b[0;32m   1014\u001b[0m     )\n\u001b[0;32m   1015\u001b[0m \u001b[39melif\u001b[39;00m mode \u001b[39m==\u001b[39m \u001b[39m'\u001b[39m\u001b[39mMinimal\u001b[39m\u001b[39m'\u001b[39m:\n\u001b[0;32m   1016\u001b[0m     \u001b[39mreturn\u001b[39;00m ListTB\u001b[39m.\u001b[39mget_exception_only(\u001b[39mself\u001b[39m, etype, value)\n",
      "File \u001b[1;32mc:\\Users\\cjwn\\Envs\\Reco_ver\\lib\\site-packages\\IPython\\core\\ultratb.py:865\u001b[0m, in \u001b[0;36mVerboseTB.structured_traceback\u001b[1;34m(self, etype, evalue, etb, tb_offset, number_of_lines_of_context)\u001b[0m\n\u001b[0;32m    856\u001b[0m \u001b[39mdef\u001b[39;00m \u001b[39mstructured_traceback\u001b[39m(\n\u001b[0;32m    857\u001b[0m     \u001b[39mself\u001b[39m,\n\u001b[0;32m    858\u001b[0m     etype: \u001b[39mtype\u001b[39m,\n\u001b[1;32m   (...)\u001b[0m\n\u001b[0;32m    862\u001b[0m     number_of_lines_of_context: \u001b[39mint\u001b[39m \u001b[39m=\u001b[39m \u001b[39m5\u001b[39m,\n\u001b[0;32m    863\u001b[0m ):\n\u001b[0;32m    864\u001b[0m     \u001b[39m\"\"\"Return a nice text document describing the traceback.\"\"\"\u001b[39;00m\n\u001b[1;32m--> 865\u001b[0m     formatted_exception \u001b[39m=\u001b[39m \u001b[39mself\u001b[39;49m\u001b[39m.\u001b[39;49mformat_exception_as_a_whole(etype, evalue, etb, number_of_lines_of_context,\n\u001b[0;32m    866\u001b[0m                                                            tb_offset)\n\u001b[0;32m    868\u001b[0m     colors \u001b[39m=\u001b[39m \u001b[39mself\u001b[39m\u001b[39m.\u001b[39mColors  \u001b[39m# just a shorthand + quicker name lookup\u001b[39;00m\n\u001b[0;32m    869\u001b[0m     colorsnormal \u001b[39m=\u001b[39m colors\u001b[39m.\u001b[39mNormal  \u001b[39m# used a lot\u001b[39;00m\n",
      "File \u001b[1;32mc:\\Users\\cjwn\\Envs\\Reco_ver\\lib\\site-packages\\IPython\\core\\ultratb.py:799\u001b[0m, in \u001b[0;36mVerboseTB.format_exception_as_a_whole\u001b[1;34m(self, etype, evalue, etb, number_of_lines_of_context, tb_offset)\u001b[0m\n\u001b[0;32m    796\u001b[0m \u001b[39massert\u001b[39;00m \u001b[39misinstance\u001b[39m(tb_offset, \u001b[39mint\u001b[39m)\n\u001b[0;32m    797\u001b[0m head \u001b[39m=\u001b[39m \u001b[39mself\u001b[39m\u001b[39m.\u001b[39mprepare_header(etype, \u001b[39mself\u001b[39m\u001b[39m.\u001b[39mlong_header)\n\u001b[0;32m    798\u001b[0m records \u001b[39m=\u001b[39m (\n\u001b[1;32m--> 799\u001b[0m     \u001b[39mself\u001b[39;49m\u001b[39m.\u001b[39;49mget_records(etb, number_of_lines_of_context, tb_offset) \u001b[39mif\u001b[39;00m etb \u001b[39melse\u001b[39;00m []\n\u001b[0;32m    800\u001b[0m )\n\u001b[0;32m    802\u001b[0m frames \u001b[39m=\u001b[39m []\n\u001b[0;32m    803\u001b[0m skipped \u001b[39m=\u001b[39m \u001b[39m0\u001b[39m\n",
      "File \u001b[1;32mc:\\Users\\cjwn\\Envs\\Reco_ver\\lib\\site-packages\\IPython\\core\\ultratb.py:854\u001b[0m, in \u001b[0;36mVerboseTB.get_records\u001b[1;34m(self, etb, number_of_lines_of_context, tb_offset)\u001b[0m\n\u001b[0;32m    848\u001b[0m     formatter \u001b[39m=\u001b[39m \u001b[39mNone\u001b[39;00m\n\u001b[0;32m    849\u001b[0m options \u001b[39m=\u001b[39m stack_data\u001b[39m.\u001b[39mOptions(\n\u001b[0;32m    850\u001b[0m     before\u001b[39m=\u001b[39mbefore,\n\u001b[0;32m    851\u001b[0m     after\u001b[39m=\u001b[39mafter,\n\u001b[0;32m    852\u001b[0m     pygments_formatter\u001b[39m=\u001b[39mformatter,\n\u001b[0;32m    853\u001b[0m )\n\u001b[1;32m--> 854\u001b[0m \u001b[39mreturn\u001b[39;00m \u001b[39mlist\u001b[39;49m(stack_data\u001b[39m.\u001b[39;49mFrameInfo\u001b[39m.\u001b[39;49mstack_data(etb, options\u001b[39m=\u001b[39;49moptions))[tb_offset:]\n",
      "File \u001b[1;32mc:\\Users\\cjwn\\Envs\\Reco_ver\\lib\\site-packages\\stack_data\\core.py:578\u001b[0m, in \u001b[0;36mFrameInfo.stack_data\u001b[1;34m(cls, frame_or_tb, options, collapse_repeated_frames)\u001b[0m\n\u001b[0;32m    562\u001b[0m \u001b[39m@classmethod\u001b[39m\n\u001b[0;32m    563\u001b[0m \u001b[39mdef\u001b[39;00m \u001b[39mstack_data\u001b[39m(\n\u001b[0;32m    564\u001b[0m         \u001b[39mcls\u001b[39m,\n\u001b[1;32m   (...)\u001b[0m\n\u001b[0;32m    568\u001b[0m         collapse_repeated_frames: \u001b[39mbool\u001b[39m \u001b[39m=\u001b[39m \u001b[39mTrue\u001b[39;00m\n\u001b[0;32m    569\u001b[0m ) \u001b[39m-\u001b[39m\u001b[39m>\u001b[39m Iterator[Union[\u001b[39m'\u001b[39m\u001b[39mFrameInfo\u001b[39m\u001b[39m'\u001b[39m, RepeatedFrames]]:\n\u001b[0;32m    570\u001b[0m     \u001b[39m\"\"\"\u001b[39;00m\n\u001b[0;32m    571\u001b[0m \u001b[39m    An iterator of FrameInfo and RepeatedFrames objects representing\u001b[39;00m\n\u001b[0;32m    572\u001b[0m \u001b[39m    a full traceback or stack. Similar consecutive frames are collapsed into RepeatedFrames\u001b[39;00m\n\u001b[1;32m   (...)\u001b[0m\n\u001b[0;32m    576\u001b[0m \u001b[39m    and optionally an Options object to configure.\u001b[39;00m\n\u001b[0;32m    577\u001b[0m \u001b[39m    \"\"\"\u001b[39;00m\n\u001b[1;32m--> 578\u001b[0m     stack \u001b[39m=\u001b[39m \u001b[39mlist\u001b[39;49m(iter_stack(frame_or_tb))\n\u001b[0;32m    580\u001b[0m     \u001b[39m# Reverse the stack from a frame so that it's in the same order\u001b[39;00m\n\u001b[0;32m    581\u001b[0m     \u001b[39m# as the order from a traceback, which is the order of a printed\u001b[39;00m\n\u001b[0;32m    582\u001b[0m     \u001b[39m# traceback when read top to bottom (most recent call last)\u001b[39;00m\n\u001b[0;32m    583\u001b[0m     \u001b[39mif\u001b[39;00m is_frame(frame_or_tb):\n",
      "File \u001b[1;32mc:\\Users\\cjwn\\Envs\\Reco_ver\\lib\\site-packages\\stack_data\\utils.py:98\u001b[0m, in \u001b[0;36miter_stack\u001b[1;34m(frame_or_tb)\u001b[0m\n\u001b[0;32m     96\u001b[0m \u001b[39mwhile\u001b[39;00m frame_or_tb:\n\u001b[0;32m     97\u001b[0m     \u001b[39myield\u001b[39;00m frame_or_tb\n\u001b[1;32m---> 98\u001b[0m     \u001b[39mif\u001b[39;00m is_frame(frame_or_tb):\n\u001b[0;32m     99\u001b[0m         frame_or_tb \u001b[39m=\u001b[39m frame_or_tb\u001b[39m.\u001b[39mf_back\n\u001b[0;32m    100\u001b[0m     \u001b[39melse\u001b[39;00m:\n",
      "File \u001b[1;32mc:\\Users\\cjwn\\Envs\\Reco_ver\\lib\\site-packages\\stack_data\\utils.py:91\u001b[0m, in \u001b[0;36mis_frame\u001b[1;34m(frame_or_tb)\u001b[0m\n\u001b[0;32m     90\u001b[0m \u001b[39mdef\u001b[39;00m \u001b[39mis_frame\u001b[39m(frame_or_tb: Union[FrameType, TracebackType]) \u001b[39m-\u001b[39m\u001b[39m>\u001b[39m \u001b[39mbool\u001b[39m:\n\u001b[1;32m---> 91\u001b[0m     assert_(\u001b[39misinstance\u001b[39;49m(frame_or_tb, (types\u001b[39m.\u001b[39;49mFrameType, types\u001b[39m.\u001b[39;49mTracebackType)))\n\u001b[0;32m     92\u001b[0m     \u001b[39mreturn\u001b[39;00m \u001b[39misinstance\u001b[39m(frame_or_tb, (types\u001b[39m.\u001b[39mFrameType,))\n",
      "File \u001b[1;32mc:\\Users\\cjwn\\Envs\\Reco_ver\\lib\\site-packages\\stack_data\\utils.py:172\u001b[0m, in \u001b[0;36massert_\u001b[1;34m(condition, error)\u001b[0m\n\u001b[0;32m    170\u001b[0m \u001b[39mif\u001b[39;00m \u001b[39misinstance\u001b[39m(error, \u001b[39mstr\u001b[39m):\n\u001b[0;32m    171\u001b[0m     error \u001b[39m=\u001b[39m \u001b[39mAssertionError\u001b[39;00m(error)\n\u001b[1;32m--> 172\u001b[0m \u001b[39mraise\u001b[39;00m error\n",
      "\u001b[1;31mAssertionError\u001b[0m: "
     ]
    }
   ],
   "source": [
    "import ctypes, sys\n",
    "from ctypes import windll, wintypes\n",
    "from uuid import UUID\n",
    "\n",
    "class GUID(ctypes.Structure):   # [1]\n",
    "    _fields_ = [\n",
    "        (\"Data1\", wintypes.DWORD),\n",
    "        (\"Data2\", wintypes.WORD),\n",
    "        (\"Data3\", wintypes.WORD),\n",
    "        (\"Data4\", wintypes.BYTE * 8)\n",
    "    ] \n",
    "\n",
    "    def __init__(self, uuid_):\n",
    "        ctypes.Structure.__init__(self)\n",
    "        self.Data1, self.Data2, self.Data3, self.Data4[0], self.Data4[1], rest = uuid_.fields\n",
    "        for i in range(2, 8):\n",
    "            self.Data4[i] = rest>>(8 - i - 1)*8 & 0xff\n",
    "\n",
    "class FOLDERID:     # [2]\n",
    "    Downloads               = UUID('{374DE290-123F-4565-9164-39C4925E467B}')\n",
    "\n",
    "\n",
    "class UserHandle:   # [3]\n",
    "    current = wintypes.HANDLE(0)\n",
    "    common  = wintypes.HANDLE(-1)\n",
    "\n",
    "_CoTaskMemFree = windll.ole32.CoTaskMemFree     # [4]\n",
    "_CoTaskMemFree.restype= None\n",
    "_CoTaskMemFree.argtypes = [ctypes.c_void_p]\n",
    "\n",
    "_SHGetKnownFolderPath = windll.shell32.SHGetKnownFolderPath     # [5] [3]\n",
    "_SHGetKnownFolderPath.argtypes = [\n",
    "    ctypes.POINTER(GUID), wintypes.DWORD, wintypes.HANDLE, ctypes.POINTER(ctypes.c_wchar_p)\n",
    "] \n",
    "\n",
    "class PathNotFoundException(Exception): pass\n",
    "\n",
    "def get_path(folderid, user_handle=UserHandle.common):\n",
    "    fid = GUID(folderid) \n",
    "    pPath = ctypes.c_wchar_p()\n",
    "    S_OK = 0\n",
    "    if _SHGetKnownFolderPath(ctypes.byref(fid), 0, user_handle, ctypes.byref(pPath)) != S_OK:\n",
    "        raise PathNotFoundException()\n",
    "    path = pPath.value\n",
    "    _CoTaskMemFree(pPath)\n",
    "    return path\n",
    "\n",
    "if __name__ == '__main__':\n",
    "    if len(sys.argv) < 2 or sys.argv[1] in ['-?', '/?']:\n",
    "        print('python knownpaths.py FOLDERID {current|common}')\n",
    "        sys.exit(0)\n",
    "\n",
    "    try:\n",
    "        folderid = getattr(FOLDERID, sys.argv[1])\n",
    "    except AttributeError:\n",
    "        print('Unknown folder id \"%s\"' % sys.argv[1], file=sys.stderr)\n",
    "        sys.exit(1)\n",
    "\n",
    "    try:\n",
    "        if len(sys.argv) == 2:\n",
    "            print(get_path(folderid))\n",
    "        else:\n",
    "            print(get_path(folderid, getattr(UserHandle, sys.argv[2])))\n",
    "    except PathNotFoundException:\n",
    "        print('Folder not found \"%s\"' % ' '.join(sys.argv[1:]), file=sys.stderr)\n",
    "        sys.exit(1)\n",
    "\n",
    "# [1] http://msdn.microsoft.com/en-us/library/windows/desktop/aa373931.aspx\n",
    "# [2] http://msdn.microsoft.com/en-us/library/windows/desktop/dd378457.aspx\n",
    "# [3] http://msdn.microsoft.com/en-us/library/windows/desktop/bb762188.aspx\n",
    "# [4] http://msdn.microsoft.com/en-us/library/windows/desktop/ms680722.aspx\n",
    "# [5] http://www.themacaque.com/?p=954"
   ]
  }
 ],
 "metadata": {
  "kernelspec": {
   "display_name": "Python 3.10.6 ('Reco_ver')",
   "language": "python",
   "name": "python3"
  },
  "language_info": {
   "codemirror_mode": {
    "name": "ipython",
    "version": 3
   },
   "file_extension": ".py",
   "mimetype": "text/x-python",
   "name": "python",
   "nbconvert_exporter": "python",
   "pygments_lexer": "ipython3",
   "version": "3.10.6"
  },
  "orig_nbformat": 4,
  "vscode": {
   "interpreter": {
    "hash": "e5f0eb765ee59179b83e2ec6ca83d0935fc5fcdc1d2171b3127726dcfb512a17"
   }
  }
 },
 "nbformat": 4,
 "nbformat_minor": 2
}
