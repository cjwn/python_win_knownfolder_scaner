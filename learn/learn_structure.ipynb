{
 "cells": [
  {
   "cell_type": "code",
   "execution_count": 1,
   "metadata": {
    "pycharm": {
     "name": "#%%\n"
    }
   },
   "outputs": [
    {
     "ename": "NameError",
     "evalue": "name 'Structure' is not defined",
     "output_type": "error",
     "traceback": [
      "\u001B[1;31m---------------------------------------------------------------------------\u001B[0m",
      "\u001B[1;31mNameError\u001B[0m                                 Traceback (most recent call last)",
      "\u001B[1;32mc:\\Users\\cjwn\\Qsync\\Reco_ver\\learn_structure.ipynb Cell 1\u001B[0m in \u001B[0;36m<cell line: 1>\u001B[1;34m()\u001B[0m\n\u001B[1;32m----> <a href='vscode-notebook-cell:/c%3A/Users/cjwn/Qsync/Reco_ver/learn_structure.ipynb#W0sZmlsZQ%3D%3D?line=0'>1</a>\u001B[0m \u001B[39mclass\u001B[39;00m \u001B[39mbeer_recipe\u001B[39;00m(Structure):\n\u001B[0;32m      <a href='vscode-notebook-cell:/c%3A/Users/cjwn/Qsync/Reco_ver/learn_structure.ipynb#W0sZmlsZQ%3D%3D?line=1'>2</a>\u001B[0m     _fields_ \u001B[39m=\u001B[39m [\n\u001B[0;32m      <a href='vscode-notebook-cell:/c%3A/Users/cjwn/Qsync/Reco_ver/learn_structure.ipynb#W0sZmlsZQ%3D%3D?line=2'>3</a>\u001B[0m         (\u001B[39m\"\u001B[39m\u001B[39mamt_barley\u001B[39m\u001B[39m\"\u001B[39m, c_int),\n\u001B[0;32m      <a href='vscode-notebook-cell:/c%3A/Users/cjwn/Qsync/Reco_ver/learn_structure.ipynb#W0sZmlsZQ%3D%3D?line=3'>4</a>\u001B[0m         (\u001B[39m\"\u001B[39m\u001B[39mamt_water\u001B[39m\u001B[39m\"\u001B[39m, c_int)\n\u001B[0;32m      <a href='vscode-notebook-cell:/c%3A/Users/cjwn/Qsync/Reco_ver/learn_structure.ipynb#W0sZmlsZQ%3D%3D?line=4'>5</a>\u001B[0m     ]\n",
      "\u001B[1;31mNameError\u001B[0m: name 'Structure' is not defined"
     ]
    }
   ],
   "source": [
    "class beer_recipe(Structure):\n",
    "    _fields_ = [\n",
    "        (\"amt_barley\", c_int),\n",
    "        (\"amt_water\", c_int)\n",
    "    ]"
   ]
  },
  {
   "cell_type": "code",
   "execution_count": 1,
   "metadata": {
    "pycharm": {
     "name": "#%%\n"
    }
   },
   "outputs": [
    {
     "name": "stdout",
     "output_type": "stream",
     "text": [
      "6b54bd3b-fb03-44fd-8bbe-e60ca81775e3\n"
     ]
    }
   ],
   "source": [
    "import uuid\n",
    "from uuid import UUID\n",
    "\n",
    "a = uuid.uuid4()\n",
    "print(a)"
   ]
  },
  {
   "cell_type": "markdown",
   "source": [
    "## 学习UUID如何将各种格式的UUID转制成可用内容：看源代码\n",
    "## 使用Mixin格式"
   ],
   "metadata": {
    "collapsed": false,
    "pycharm": {
     "name": "#%% md\n"
    }
   }
  },
  {
   "cell_type": "code",
   "execution_count": null,
   "outputs": [],
   "source": [
    "import uuid\n",
    "from uuid import UUID\n",
    "import ctypes\n",
    "from ctypes import Structure, wintypes\n",
    "class GUID(Structure):\n",
    "    _fields_ = [\n",
    "        ('Data1', wintypes.DWORD),\n",
    "        ('Data2', wintypes.WORD),\n",
    "        ('Data3', wintypes.WORD),\n",
    "        ('Data4', wintypes.BYTE * 8)\n",
    "    ]\n",
    "\n",
    "    def __init__(self, l, w1, w2, b1, b2, b3, b4, b5, b6, b7, b8):\n",
    "        self.Data1 = l\n",
    "        self.Data2 = w1\n",
    "        self.Data3 = w2\n",
    "        self.Data4[:] = (b1, b2, b3, b4, b5, b6, b7, b8)\n",
    "\n",
    "    def __repr__(self):\n",
    "        b1, b2, b3, b4, b5, b6, b7, b8 = self.Data4\n",
    "        print(list(self.Data4))\n",
    "        # return 'GUID(%x-%x-%x-%x%x%x%x%x%x%x%x)' % (\n",
    "        #            self.Data1, self.Data2, self.Data3, b1, b2, b3, b4, b5, b6, b7, b8)\n",
    "        return f'GUID({self.Data1}-{self.Data2}-{self.Data3}-{b1}{b2}{b3}{b4}{b5}{b6}{b7}{b8})' \n",
    "\n",
    "\n",
    "    def toGUID(self, from_uuid):\n",
    "        str_info = from_uuid.split('-')\n",
    "        self.Data1 = str_info\n",
    "\n",
    "# constants to be used according to the version on shell32\n",
    "CSIDL_PROFILE = 40\n",
    "FOLDERID_Profile = GUID(0x5E6C858F, 0x0E22, 0x4760, 0x9A, 0xFE, 0xEA, 0x33, 0x17, 0xB6, 0x71, 0x73)\n",
    "\n",
    "DOWNLOADS_GUID_str = '{374DE290-123F-4565-9164-39C4925E467B}'\n",
    "crack_downloads_GUID = \n",
    "\n",
    "print(f'FOLDERID_Profile:{FOLDERID_Profile}')\n",
    "\n",
    "CSIDL_PERSONAL = UUID(DOWNLOADS_GUID_str)\n",
    "print(f'CSIDL_PERSONAL:{CSIDL_PERSONAL}')\n",
    "print(CSIDL_PERSONAL.fields)\n",
    "\n",
    "class ToGUID(object):\n",
    "    def __init__(self, content):\n",
    "        self.content = content\n",
    "\n",
    "    def __repr__(self) -> str:\n",
    "        return f'GUID({self.content})'\n",
    "\n",
    "a = ToGUID(CSIDL_PERSONAL)\n",
    "print(a)\n",
    "\n",
    "def SHGetKnownFolderPath():\n",
    "    ptr = ctypes.c_wchar_p()\n",
    "    ctypes.windll.shell32.SHGetKnownFolderPath(FOLDERID_Profile, 0, None, ctypes.byref(ptr))\n",
    "    return ptr.value\n",
    "\n",
    "SHGetKnownFolderPath()"
   ],
   "metadata": {
    "collapsed": false,
    "pycharm": {
     "name": "#%%\n"
    }
   }
  },
  {
   "cell_type": "code",
   "execution_count": null,
   "outputs": [],
   "source": [
    "\n",
    "a = UUID('{374DE290-123F-4565-9164-39C4925E467B}')\n",
    "a"
   ],
   "metadata": {
    "collapsed": false,
    "pycharm": {
     "name": "#%%\n"
    }
   }
  },
  {
   "cell_type": "code",
   "execution_count": null,
   "outputs": [],
   "source": [
    "a = (0x9A, 0xFE, 0xEA, 0x33, 0x17, 0xB6, 0x71, 0x73)\n",
    "print(a)\n",
    "list(map(hex, a))\n",
    "\n",
    "mist = ctypes.c_byte(0x9A)\n",
    "\n",
    "mist.value\n"
   ],
   "metadata": {
    "collapsed": false,
    "pycharm": {
     "name": "#%%\n"
    }
   }
  },
  {
   "cell_type": "code",
   "execution_count": 3,
   "metadata": {
    "collapsed": false,
    "pycharm": {
     "name": "#%%\n"
    }
   },
   "outputs": [
    {
     "name": "stdout",
     "output_type": "stream",
     "text": [
      "(154, 254, 234, 51, 23, 182, 113, 115)\n"
     ]
    },
    {
     "data": {
      "text/plain": [
       "-102"
      ]
     },
     "execution_count": 3,
     "metadata": {},
     "output_type": "execute_result"
    }
   ],
   "source": [
    "a = (0x9A, 0xFE, 0xEA, 0x33, 0x17, 0xB6, 0x71, 0x73)\n",
    "print(a)\n",
    "list(map(hex, a))\n",
    "\n",
    "mist = ctypes.c_byte(0x9A)\n",
    "\n",
    "mist.value\n"
   ]
  }
 ],
 "metadata": {
  "kernelspec": {
   "display_name": "Python 3.10.6 ('Reco_ver')",
   "language": "python",
   "name": "python3"
  },
  "language_info": {
   "codemirror_mode": {
    "name": "ipython",
    "version": 3
   },
   "file_extension": ".py",
   "mimetype": "text/x-python",
   "name": "python",
   "nbconvert_exporter": "python",
   "pygments_lexer": "ipython3",
   "version": "3.10.6"
  },
  "orig_nbformat": 4,
  "vscode": {
   "interpreter": {
    "hash": "e5f0eb765ee59179b83e2ec6ca83d0935fc5fcdc1d2171b3127726dcfb512a17"
   }
  }
 },
 "nbformat": 4,
 "nbformat_minor": 2
}